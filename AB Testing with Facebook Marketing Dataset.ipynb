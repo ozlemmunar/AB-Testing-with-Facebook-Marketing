{
 "cells": [
  {
   "cell_type": "code",
   "execution_count": 8,
   "id": "4edb164e",
   "metadata": {},
   "outputs": [],
   "source": [
    "import pandas as pd\n",
    "import numpy as np\n",
    "from statsmodels.stats import proportion as pr\n",
    "import seaborn as sns\n",
    "import matplotlib.pyplot as plt\n",
    "import warnings\n",
    "import statsmodels.stats.api as sms\n",
    "\n",
    "warnings.filterwarnings (\"ignore\")\n",
    "pd.set_option ('display.float_format', lambda x: '%.6f' % x)\n",
    "pd.set_option ('display.width', None)\n",
    "pd.set_option ('display.max_columns', None)"
   ]
  },
  {
   "cell_type": "markdown",
   "id": "67f8f410",
   "metadata": {},
   "source": [
    "## Maximum Cost Bidding vs Average Cost Bidding\n"
   ]
  },
  {
   "cell_type": "code",
   "execution_count": 25,
   "id": "a24373ed",
   "metadata": {},
   "outputs": [],
   "source": [
    "#ControlGroup (Maximum Bidding)\n",
    "control_df = pd.read_excel (\"ab_testing1.xlsx\" , sheet_name=\"Control Group\")"
   ]
  },
  {
   "cell_type": "code",
   "execution_count": 26,
   "id": "151c1e87",
   "metadata": {},
   "outputs": [],
   "source": [
    "# Test Group (Average Bidding)\n",
    "test_df = pd.read_excel (\"ab_testing1.xlsx\",sheet_name=\"Test Group\")"
   ]
  },
  {
   "cell_type": "code",
   "execution_count": 27,
   "id": "bdf8497e",
   "metadata": {},
   "outputs": [
    {
     "data": {
      "text/plain": [
       "(40, 4)"
      ]
     },
     "execution_count": 27,
     "metadata": {},
     "output_type": "execute_result"
    }
   ],
   "source": [
    "control_df.shape"
   ]
  },
  {
   "cell_type": "code",
   "execution_count": 28,
   "id": "9741caec",
   "metadata": {},
   "outputs": [
    {
     "data": {
      "text/html": [
       "<div>\n",
       "<style scoped>\n",
       "    .dataframe tbody tr th:only-of-type {\n",
       "        vertical-align: middle;\n",
       "    }\n",
       "\n",
       "    .dataframe tbody tr th {\n",
       "        vertical-align: top;\n",
       "    }\n",
       "\n",
       "    .dataframe thead th {\n",
       "        text-align: right;\n",
       "    }\n",
       "</style>\n",
       "<table border=\"1\" class=\"dataframe\">\n",
       "  <thead>\n",
       "    <tr style=\"text-align: right;\">\n",
       "      <th></th>\n",
       "      <th>Impression</th>\n",
       "      <th>Click</th>\n",
       "      <th>Purchase</th>\n",
       "      <th>Earning</th>\n",
       "    </tr>\n",
       "  </thead>\n",
       "  <tbody>\n",
       "    <tr>\n",
       "      <th>0</th>\n",
       "      <td>82529</td>\n",
       "      <td>6090</td>\n",
       "      <td>665</td>\n",
       "      <td>2311</td>\n",
       "    </tr>\n",
       "    <tr>\n",
       "      <th>1</th>\n",
       "      <td>98050</td>\n",
       "      <td>3383</td>\n",
       "      <td>315</td>\n",
       "      <td>1743</td>\n",
       "    </tr>\n",
       "    <tr>\n",
       "      <th>2</th>\n",
       "      <td>82696</td>\n",
       "      <td>4168</td>\n",
       "      <td>458</td>\n",
       "      <td>1798</td>\n",
       "    </tr>\n",
       "    <tr>\n",
       "      <th>3</th>\n",
       "      <td>109914</td>\n",
       "      <td>4911</td>\n",
       "      <td>487</td>\n",
       "      <td>1696</td>\n",
       "    </tr>\n",
       "    <tr>\n",
       "      <th>4</th>\n",
       "      <td>108458</td>\n",
       "      <td>5988</td>\n",
       "      <td>441</td>\n",
       "      <td>1544</td>\n",
       "    </tr>\n",
       "  </tbody>\n",
       "</table>\n",
       "</div>"
      ],
      "text/plain": [
       "   Impression  Click  Purchase  Earning\n",
       "0       82529   6090       665     2311\n",
       "1       98050   3383       315     1743\n",
       "2       82696   4168       458     1798\n",
       "3      109914   4911       487     1696\n",
       "4      108458   5988       441     1544"
      ]
     },
     "execution_count": 28,
     "metadata": {},
     "output_type": "execute_result"
    }
   ],
   "source": [
    "control_df.head()"
   ]
  },
  {
   "cell_type": "code",
   "execution_count": 29,
   "id": "1f7ac13c",
   "metadata": {},
   "outputs": [
    {
     "data": {
      "image/png": "[encoded data removed]",
      "text/plain": [
       "<Figure size 432x288 with 1 Axes>"
      ]
     },
     "metadata": {
      "needs_background": "light"
     },
     "output_type": "display_data"
    }
   ],
   "source": [
    "sns.distplot (control_df[\"Purchase\"], hist=False)  # normal distribution\n",
    "plt.show ();"
   ]
  },
  {
   "cell_type": "code",
   "execution_count": 30,
   "id": "0604c3d9",
   "metadata": {},
   "outputs": [
    {
     "data": {
      "text/plain": [
       "(40, 4)"
      ]
     },
     "execution_count": 30,
     "metadata": {},
     "output_type": "execute_result"
    }
   ],
   "source": [
    "test_df.shape"
   ]
  },
  {
   "cell_type": "code",
   "execution_count": 21,
   "id": "f848e27f",
   "metadata": {},
   "outputs": [
    {
     "data": {
      "text/html": [
       "<div>\n",
       "<style scoped>\n",
       "    .dataframe tbody tr th:only-of-type {\n",
       "        vertical-align: middle;\n",
       "    }\n",
       "\n",
       "    .dataframe tbody tr th {\n",
       "        vertical-align: top;\n",
       "    }\n",
       "\n",
       "    .dataframe thead th {\n",
       "        text-align: right;\n",
       "    }\n",
       "</style>\n",
       "<table border=\"1\" class=\"dataframe\">\n",
       "  <thead>\n",
       "    <tr style=\"text-align: right;\">\n",
       "      <th></th>\n",
       "      <th>Impression</th>\n",
       "      <th>Click</th>\n",
       "      <th>Purchase</th>\n",
       "      <th>Earning</th>\n",
       "    </tr>\n",
       "  </thead>\n",
       "  <tbody>\n",
       "    <tr>\n",
       "      <th>0</th>\n",
       "      <td>120104</td>\n",
       "      <td>3217</td>\n",
       "      <td>702</td>\n",
       "      <td>1940</td>\n",
       "    </tr>\n",
       "    <tr>\n",
       "      <th>1</th>\n",
       "      <td>134776</td>\n",
       "      <td>3635</td>\n",
       "      <td>834</td>\n",
       "      <td>2929</td>\n",
       "    </tr>\n",
       "    <tr>\n",
       "      <th>2</th>\n",
       "      <td>107807</td>\n",
       "      <td>3057</td>\n",
       "      <td>423</td>\n",
       "      <td>2526</td>\n",
       "    </tr>\n",
       "    <tr>\n",
       "      <th>3</th>\n",
       "      <td>116445</td>\n",
       "      <td>4650</td>\n",
       "      <td>429</td>\n",
       "      <td>2281</td>\n",
       "    </tr>\n",
       "    <tr>\n",
       "      <th>4</th>\n",
       "      <td>145083</td>\n",
       "      <td>5201</td>\n",
       "      <td>750</td>\n",
       "      <td>2782</td>\n",
       "    </tr>\n",
       "  </tbody>\n",
       "</table>\n",
       "</div>"
      ],
      "text/plain": [
       "   Impression  Click  Purchase  Earning\n",
       "0      120104   3217       702     1940\n",
       "1      134776   3635       834     2929\n",
       "2      107807   3057       423     2526\n",
       "3      116445   4650       429     2281\n",
       "4      145083   5201       750     2782"
      ]
     },
     "execution_count": 21,
     "metadata": {},
     "output_type": "execute_result"
    }
   ],
   "source": [
    "test_df.head()"
   ]
  },
  {
   "cell_type": "code",
   "execution_count": 23,
   "id": "90b3e677",
   "metadata": {},
   "outputs": [
    {
     "data": {
      "image/png": "[encoded data removed]",
      "text/plain": [
       "<Figure size 432x288 with 1 Axes>"
      ]
     },
     "metadata": {
      "needs_background": "light"
     },
     "output_type": "display_data"
    }
   ],
   "source": [
    "sns.distplot (test_df[\"Purchase\"], hist=False)  # Normal distribution\n",
    "plt.show ();"
   ]
  },
  {
   "cell_type": "code",
   "execution_count": 32,
   "id": "6440e8a5",
   "metadata": {},
   "outputs": [
    {
     "data": {
      "text/html": [
       "<div>\n",
       "<style scoped>\n",
       "    .dataframe tbody tr th:only-of-type {\n",
       "        vertical-align: middle;\n",
       "    }\n",
       "\n",
       "    .dataframe tbody tr th {\n",
       "        vertical-align: top;\n",
       "    }\n",
       "\n",
       "    .dataframe thead th {\n",
       "        text-align: right;\n",
       "    }\n",
       "</style>\n",
       "<table border=\"1\" class=\"dataframe\">\n",
       "  <thead>\n",
       "    <tr style=\"text-align: right;\">\n",
       "      <th></th>\n",
       "      <th>Impression</th>\n",
       "      <th>Click</th>\n",
       "      <th>Purchase</th>\n",
       "      <th>Earning</th>\n",
       "      <th>Earning_Per_Click</th>\n",
       "    </tr>\n",
       "  </thead>\n",
       "  <tbody>\n",
       "    <tr>\n",
       "      <th>0</th>\n",
       "      <td>82529</td>\n",
       "      <td>6090</td>\n",
       "      <td>665</td>\n",
       "      <td>2311</td>\n",
       "      <td>0.379475</td>\n",
       "    </tr>\n",
       "    <tr>\n",
       "      <th>1</th>\n",
       "      <td>98050</td>\n",
       "      <td>3383</td>\n",
       "      <td>315</td>\n",
       "      <td>1743</td>\n",
       "      <td>0.515223</td>\n",
       "    </tr>\n",
       "    <tr>\n",
       "      <th>2</th>\n",
       "      <td>82696</td>\n",
       "      <td>4168</td>\n",
       "      <td>458</td>\n",
       "      <td>1798</td>\n",
       "      <td>0.431382</td>\n",
       "    </tr>\n",
       "    <tr>\n",
       "      <th>3</th>\n",
       "      <td>109914</td>\n",
       "      <td>4911</td>\n",
       "      <td>487</td>\n",
       "      <td>1696</td>\n",
       "      <td>0.345347</td>\n",
       "    </tr>\n",
       "    <tr>\n",
       "      <th>4</th>\n",
       "      <td>108458</td>\n",
       "      <td>5988</td>\n",
       "      <td>441</td>\n",
       "      <td>1544</td>\n",
       "      <td>0.257849</td>\n",
       "    </tr>\n",
       "  </tbody>\n",
       "</table>\n",
       "</div>"
      ],
      "text/plain": [
       "   Impression  Click  Purchase  Earning  Earning_Per_Click\n",
       "0       82529   6090       665     2311           0.379475\n",
       "1       98050   3383       315     1743           0.515223\n",
       "2       82696   4168       458     1798           0.431382\n",
       "3      109914   4911       487     1696           0.345347\n",
       "4      108458   5988       441     1544           0.257849"
      ]
     },
     "execution_count": 32,
     "metadata": {},
     "output_type": "execute_result"
    }
   ],
   "source": [
    "control_df[\"Earning_Per_Click\"] = control_df[\"Earning\"] / control_df[\"Click\"]\n",
    "control_df.head()"
   ]
  },
  {
   "cell_type": "code",
   "execution_count": 33,
   "id": "d37f8b9e",
   "metadata": {},
   "outputs": [
    {
     "data": {
      "text/html": [
       "<div>\n",
       "<style scoped>\n",
       "    .dataframe tbody tr th:only-of-type {\n",
       "        vertical-align: middle;\n",
       "    }\n",
       "\n",
       "    .dataframe tbody tr th {\n",
       "        vertical-align: top;\n",
       "    }\n",
       "\n",
       "    .dataframe thead th {\n",
       "        text-align: right;\n",
       "    }\n",
       "</style>\n",
       "<table border=\"1\" class=\"dataframe\">\n",
       "  <thead>\n",
       "    <tr style=\"text-align: right;\">\n",
       "      <th></th>\n",
       "      <th>Impression</th>\n",
       "      <th>Click</th>\n",
       "      <th>Purchase</th>\n",
       "      <th>Earning</th>\n",
       "      <th>Earning_Per_Click</th>\n",
       "    </tr>\n",
       "  </thead>\n",
       "  <tbody>\n",
       "    <tr>\n",
       "      <th>0</th>\n",
       "      <td>120104</td>\n",
       "      <td>3217</td>\n",
       "      <td>702</td>\n",
       "      <td>1940</td>\n",
       "      <td>0.603046</td>\n",
       "    </tr>\n",
       "    <tr>\n",
       "      <th>1</th>\n",
       "      <td>134776</td>\n",
       "      <td>3635</td>\n",
       "      <td>834</td>\n",
       "      <td>2929</td>\n",
       "      <td>0.805777</td>\n",
       "    </tr>\n",
       "    <tr>\n",
       "      <th>2</th>\n",
       "      <td>107807</td>\n",
       "      <td>3057</td>\n",
       "      <td>423</td>\n",
       "      <td>2526</td>\n",
       "      <td>0.826300</td>\n",
       "    </tr>\n",
       "    <tr>\n",
       "      <th>3</th>\n",
       "      <td>116445</td>\n",
       "      <td>4650</td>\n",
       "      <td>429</td>\n",
       "      <td>2281</td>\n",
       "      <td>0.490538</td>\n",
       "    </tr>\n",
       "    <tr>\n",
       "      <th>4</th>\n",
       "      <td>145083</td>\n",
       "      <td>5201</td>\n",
       "      <td>750</td>\n",
       "      <td>2782</td>\n",
       "      <td>0.534897</td>\n",
       "    </tr>\n",
       "  </tbody>\n",
       "</table>\n",
       "</div>"
      ],
      "text/plain": [
       "   Impression  Click  Purchase  Earning  Earning_Per_Click\n",
       "0      120104   3217       702     1940           0.603046\n",
       "1      134776   3635       834     2929           0.805777\n",
       "2      107807   3057       423     2526           0.826300\n",
       "3      116445   4650       429     2281           0.490538\n",
       "4      145083   5201       750     2782           0.534897"
      ]
     },
     "execution_count": 33,
     "metadata": {},
     "output_type": "execute_result"
    }
   ],
   "source": [
    "test_df[\"Earning_Per_Click\"] = test_df[\"Earning\"] / test_df[\"Click\"]\n",
    "test_df.head()"
   ]
  },
  {
   "cell_type": "code",
   "execution_count": 36,
   "id": "6e6443b5",
   "metadata": {},
   "outputs": [
    {
     "data": {
      "text/html": [
       "<div>\n",
       "<style scoped>\n",
       "    .dataframe tbody tr th:only-of-type {\n",
       "        vertical-align: middle;\n",
       "    }\n",
       "\n",
       "    .dataframe tbody tr th {\n",
       "        vertical-align: top;\n",
       "    }\n",
       "\n",
       "    .dataframe thead th {\n",
       "        text-align: right;\n",
       "    }\n",
       "</style>\n",
       "<table border=\"1\" class=\"dataframe\">\n",
       "  <thead>\n",
       "    <tr style=\"text-align: right;\">\n",
       "      <th></th>\n",
       "      <th>Impression</th>\n",
       "      <th>Click</th>\n",
       "      <th>Purchase</th>\n",
       "      <th>Earning</th>\n",
       "      <th>Earning_Per_Click</th>\n",
       "    </tr>\n",
       "  </thead>\n",
       "  <tbody>\n",
       "    <tr>\n",
       "      <th>0</th>\n",
       "      <td>120104</td>\n",
       "      <td>3217</td>\n",
       "      <td>702</td>\n",
       "      <td>1940</td>\n",
       "      <td>0.603046</td>\n",
       "    </tr>\n",
       "    <tr>\n",
       "      <th>1</th>\n",
       "      <td>134776</td>\n",
       "      <td>3635</td>\n",
       "      <td>834</td>\n",
       "      <td>2929</td>\n",
       "      <td>0.805777</td>\n",
       "    </tr>\n",
       "    <tr>\n",
       "      <th>2</th>\n",
       "      <td>107807</td>\n",
       "      <td>3057</td>\n",
       "      <td>423</td>\n",
       "      <td>2526</td>\n",
       "      <td>0.826300</td>\n",
       "    </tr>\n",
       "    <tr>\n",
       "      <th>3</th>\n",
       "      <td>116445</td>\n",
       "      <td>4650</td>\n",
       "      <td>429</td>\n",
       "      <td>2281</td>\n",
       "      <td>0.490538</td>\n",
       "    </tr>\n",
       "    <tr>\n",
       "      <th>4</th>\n",
       "      <td>145083</td>\n",
       "      <td>5201</td>\n",
       "      <td>750</td>\n",
       "      <td>2782</td>\n",
       "      <td>0.534897</td>\n",
       "    </tr>\n",
       "  </tbody>\n",
       "</table>\n",
       "</div>"
      ],
      "text/plain": [
       "   Impression  Click  Purchase  Earning  Earning_Per_Click\n",
       "0      120104   3217       702     1940           0.603046\n",
       "1      134776   3635       834     2929           0.805777\n",
       "2      107807   3057       423     2526           0.826300\n",
       "3      116445   4650       429     2281           0.490538\n",
       "4      145083   5201       750     2782           0.534897"
      ]
     },
     "execution_count": 36,
     "metadata": {},
     "output_type": "execute_result"
    }
   ],
   "source": [
    "# Test ve Control Grubu için Earning/Click Değişkeninin Türetilmesi\n",
    "groups = [control_df, test_df]\n",
    "\n",
    "for group in groups:\n",
    "    group[\"Earning_Per_Click\"] = group[\"Earning\"] / group[\"Click\"]\n",
    "\n",
    "control_df.head ()\n",
    "test_df.head ()"
   ]
  },
  {
   "cell_type": "code",
   "execution_count": 37,
   "id": "dbffdb5a",
   "metadata": {},
   "outputs": [
    {
     "data": {
      "text/plain": [
       "count    40.000000\n",
       "mean    550.900000\n",
       "std     134.110517\n",
       "min     267.000000\n",
       "25%     470.500000\n",
       "50%     531.500000\n",
       "75%     638.000000\n",
       "max     802.000000\n",
       "Name: Purchase, dtype: float64"
      ]
     },
     "execution_count": 37,
     "metadata": {},
     "output_type": "execute_result"
    }
   ],
   "source": [
    "control_df[\"Purchase\"].describe ()"
   ]
  },
  {
   "cell_type": "code",
   "execution_count": 38,
   "id": "60af121d",
   "metadata": {},
   "outputs": [
    {
     "data": {
      "text/plain": [
       "count    40.000000\n",
       "mean    582.050000\n",
       "std     161.175164\n",
       "min     312.000000\n",
       "25%     444.750000\n",
       "50%     551.000000\n",
       "75%     699.750000\n",
       "max     890.000000\n",
       "Name: Purchase, dtype: float64"
      ]
     },
     "execution_count": 38,
     "metadata": {},
     "output_type": "execute_result"
    }
   ],
   "source": [
    "test_df[\"Purchase\"].describe ()"
   ]
  },
  {
   "cell_type": "code",
   "execution_count": 39,
   "id": "22e8f444",
   "metadata": {},
   "outputs": [],
   "source": [
    "# İki Grubun Purchase ve Earning Betimsel İstatistiklerinin Karşılaştırılması\n",
    "desc_compare_df = pd.DataFrame ({\"Control_Purchase\": control_df[\"Purchase\"].describe (),\n",
    "                                 \"Test_Purchase\": test_df[\"Purchase\"].describe ()})"
   ]
  },
  {
   "cell_type": "code",
   "execution_count": 40,
   "id": "fbacb89a",
   "metadata": {},
   "outputs": [
    {
     "data": {
      "text/html": [
       "<div>\n",
       "<style scoped>\n",
       "    .dataframe tbody tr th:only-of-type {\n",
       "        vertical-align: middle;\n",
       "    }\n",
       "\n",
       "    .dataframe tbody tr th {\n",
       "        vertical-align: top;\n",
       "    }\n",
       "\n",
       "    .dataframe thead th {\n",
       "        text-align: right;\n",
       "    }\n",
       "</style>\n",
       "<table border=\"1\" class=\"dataframe\">\n",
       "  <thead>\n",
       "    <tr style=\"text-align: right;\">\n",
       "      <th></th>\n",
       "      <th>Control_Purchase</th>\n",
       "      <th>Test_Purchase</th>\n",
       "    </tr>\n",
       "  </thead>\n",
       "  <tbody>\n",
       "    <tr>\n",
       "      <th>count</th>\n",
       "      <td>40.000000</td>\n",
       "      <td>40.000000</td>\n",
       "    </tr>\n",
       "    <tr>\n",
       "      <th>mean</th>\n",
       "      <td>550.900000</td>\n",
       "      <td>582.050000</td>\n",
       "    </tr>\n",
       "    <tr>\n",
       "      <th>std</th>\n",
       "      <td>134.110517</td>\n",
       "      <td>161.175164</td>\n",
       "    </tr>\n",
       "    <tr>\n",
       "      <th>min</th>\n",
       "      <td>267.000000</td>\n",
       "      <td>312.000000</td>\n",
       "    </tr>\n",
       "    <tr>\n",
       "      <th>25%</th>\n",
       "      <td>470.500000</td>\n",
       "      <td>444.750000</td>\n",
       "    </tr>\n",
       "    <tr>\n",
       "      <th>50%</th>\n",
       "      <td>531.500000</td>\n",
       "      <td>551.000000</td>\n",
       "    </tr>\n",
       "    <tr>\n",
       "      <th>75%</th>\n",
       "      <td>638.000000</td>\n",
       "      <td>699.750000</td>\n",
       "    </tr>\n",
       "    <tr>\n",
       "      <th>max</th>\n",
       "      <td>802.000000</td>\n",
       "      <td>890.000000</td>\n",
       "    </tr>\n",
       "  </tbody>\n",
       "</table>\n",
       "</div>"
      ],
      "text/plain": [
       "       Control_Purchase  Test_Purchase\n",
       "count         40.000000      40.000000\n",
       "mean         550.900000     582.050000\n",
       "std          134.110517     161.175164\n",
       "min          267.000000     312.000000\n",
       "25%          470.500000     444.750000\n",
       "50%          531.500000     551.000000\n",
       "75%          638.000000     699.750000\n",
       "max          802.000000     890.000000"
      ]
     },
     "execution_count": 40,
     "metadata": {},
     "output_type": "execute_result"
    }
   ],
   "source": [
    "desc_compare_df  # Test grubunun ortalaması ve medyanı yüksek olmasına rağmen, standart sapması da yüksek olduğundan anlamlı bir farklılık olup olmadığını kontrol edelim."
   ]
  },
  {
   "cell_type": "code",
   "execution_count": 41,
   "id": "94dd589e",
   "metadata": {},
   "outputs": [
    {
     "data": {
      "text/plain": [
       "(508.00937604959614, 593.7906239504039)"
      ]
     },
     "execution_count": 41,
     "metadata": {},
     "output_type": "execute_result"
    }
   ],
   "source": [
    "# Güven Aralığı Değerlendirmesi\n",
    "sms.DescrStatsW (control_df[\"Purchase\"]).tconfint_mean ()\n",
    "# (508.0041754264924, 593.7839421139709) Kontrol grubu %95 güven aralığı değerleri"
   ]
  },
  {
   "cell_type": "code",
   "execution_count": 42,
   "id": "582ad0a5",
   "metadata": {},
   "outputs": [
    {
     "data": {
      "text/plain": [
       "(530.5036822081174, 633.5963177918825)"
      ]
     },
     "execution_count": 42,
     "metadata": {},
     "output_type": "execute_result"
    }
   ],
   "source": [
    "sms.DescrStatsW (test_df[\"Purchase\"]).tconfint_mean ()\n",
    "# (530.5670226990062, 633.6451705979289) Test grubu %95 güven aralığı değerleri"
   ]
  },
  {
   "cell_type": "code",
   "execution_count": 43,
   "id": "424910b4",
   "metadata": {},
   "outputs": [
    {
     "data": {
      "text/html": [
       "<div>\n",
       "<style scoped>\n",
       "    .dataframe tbody tr th:only-of-type {\n",
       "        vertical-align: middle;\n",
       "    }\n",
       "\n",
       "    .dataframe tbody tr th {\n",
       "        vertical-align: top;\n",
       "    }\n",
       "\n",
       "    .dataframe thead th {\n",
       "        text-align: right;\n",
       "    }\n",
       "</style>\n",
       "<table border=\"1\" class=\"dataframe\">\n",
       "  <thead>\n",
       "    <tr style=\"text-align: right;\">\n",
       "      <th></th>\n",
       "      <th>Control_Earning</th>\n",
       "      <th>Test_Earning</th>\n",
       "    </tr>\n",
       "  </thead>\n",
       "  <tbody>\n",
       "    <tr>\n",
       "      <th>count</th>\n",
       "      <td>40.000000</td>\n",
       "      <td>40.000000</td>\n",
       "    </tr>\n",
       "    <tr>\n",
       "      <th>mean</th>\n",
       "      <td>1908.575000</td>\n",
       "      <td>2514.925000</td>\n",
       "    </tr>\n",
       "    <tr>\n",
       "      <th>std</th>\n",
       "      <td>302.868329</td>\n",
       "      <td>282.707912</td>\n",
       "    </tr>\n",
       "    <tr>\n",
       "      <th>min</th>\n",
       "      <td>1254.000000</td>\n",
       "      <td>1940.000000</td>\n",
       "    </tr>\n",
       "    <tr>\n",
       "      <th>25%</th>\n",
       "      <td>1685.750000</td>\n",
       "      <td>2280.250000</td>\n",
       "    </tr>\n",
       "    <tr>\n",
       "      <th>50%</th>\n",
       "      <td>1975.000000</td>\n",
       "      <td>2544.500000</td>\n",
       "    </tr>\n",
       "    <tr>\n",
       "      <th>75%</th>\n",
       "      <td>2120.000000</td>\n",
       "      <td>2761.750000</td>\n",
       "    </tr>\n",
       "    <tr>\n",
       "      <th>max</th>\n",
       "      <td>2497.000000</td>\n",
       "      <td>3171.000000</td>\n",
       "    </tr>\n",
       "  </tbody>\n",
       "</table>\n",
       "</div>"
      ],
      "text/plain": [
       "       Control_Earning  Test_Earning\n",
       "count        40.000000     40.000000\n",
       "mean       1908.575000   2514.925000\n",
       "std         302.868329    282.707912\n",
       "min        1254.000000   1940.000000\n",
       "25%        1685.750000   2280.250000\n",
       "50%        1975.000000   2544.500000\n",
       "75%        2120.000000   2761.750000\n",
       "max        2497.000000   3171.000000"
      ]
     },
     "execution_count": 43,
     "metadata": {},
     "output_type": "execute_result"
    }
   ],
   "source": [
    "earning_df = pd.DataFrame ({\"Control_Earning\": control_df[\"Earning\"].describe (),\n",
    "                            \"Test_Earning\": test_df[\"Earning\"].describe ()})\n",
    "earning_df"
   ]
  },
  {
   "cell_type": "code",
   "execution_count": 44,
   "id": "bc7b2b6f",
   "metadata": {},
   "outputs": [
    {
     "data": {
      "text/plain": [
       "0    665\n",
       "1    315\n",
       "2    458\n",
       "3    487\n",
       "4    441\n",
       "Name: Purchase, dtype: int64"
      ]
     },
     "execution_count": 44,
     "metadata": {},
     "output_type": "execute_result"
    }
   ],
   "source": [
    "control_df[\"Purchase\"].head()"
   ]
  },
  {
   "cell_type": "code",
   "execution_count": 45,
   "id": "4b8b1eba",
   "metadata": {},
   "outputs": [
    {
     "data": {
      "text/plain": [
       "(1811.7130094795095, 2005.4369905204906)"
      ]
     },
     "execution_count": 45,
     "metadata": {},
     "output_type": "execute_result"
    }
   ],
   "source": [
    "# Güven Aralığı Değerlendirmesi\n",
    "sms.DescrStatsW (control_df[\"Earning\"]).tconfint_mean ()"
   ]
  },
  {
   "cell_type": "code",
   "execution_count": 46,
   "id": "733ae109",
   "metadata": {},
   "outputs": [
    {
     "data": {
      "text/plain": [
       "(2424.510623786845, 2605.3393762131554)"
      ]
     },
     "execution_count": 46,
     "metadata": {},
     "output_type": "execute_result"
    }
   ],
   "source": [
    "sms.DescrStatsW (test_df[\"Earning\"]).tconfint_mean ()"
   ]
  },
  {
   "cell_type": "code",
   "execution_count": 47,
   "id": "36917848",
   "metadata": {},
   "outputs": [],
   "source": [
    "from scipy.stats import shapiro"
   ]
  },
  {
   "cell_type": "code",
   "execution_count": 48,
   "id": "71565b72",
   "metadata": {},
   "outputs": [],
   "source": [
    "p_value_threshold = 0.05"
   ]
  },
  {
   "cell_type": "code",
   "execution_count": 49,
   "id": "9fcd1974",
   "metadata": {},
   "outputs": [
    {
     "data": {
      "text/plain": [
       "Index(['Impression', 'Click', 'Purchase', 'Earning', 'Earning_Per_Click'], dtype='object')"
      ]
     },
     "execution_count": 49,
     "metadata": {},
     "output_type": "execute_result"
    }
   ],
   "source": [
    "control_df.columns"
   ]
  },
  {
   "cell_type": "code",
   "execution_count": 50,
   "id": "04e282a1",
   "metadata": {},
   "outputs": [
    {
     "data": {
      "text/plain": [
       "ShapiroResult(statistic=0.969672679901123, pvalue=0.35140591859817505)"
      ]
     },
     "execution_count": 50,
     "metadata": {},
     "output_type": "execute_result"
    }
   ],
   "source": [
    "shapiro (control_df['Impression'])"
   ]
  },
  {
   "cell_type": "code",
   "execution_count": 51,
   "id": "edda830d",
   "metadata": {},
   "outputs": [],
   "source": [
    "ttest, p_value = shapiro (control_df['Impression'])"
   ]
  },
  {
   "cell_type": "code",
   "execution_count": 52,
   "id": "cb88f477",
   "metadata": {},
   "outputs": [
    {
     "data": {
      "text/plain": [
       "0.969672679901123"
      ]
     },
     "execution_count": 52,
     "metadata": {},
     "output_type": "execute_result"
    }
   ],
   "source": [
    "ttest"
   ]
  },
  {
   "cell_type": "code",
   "execution_count": 53,
   "id": "5cafca29",
   "metadata": {},
   "outputs": [
    {
     "data": {
      "text/plain": [
       "0.35140591859817505"
      ]
     },
     "execution_count": 53,
     "metadata": {},
     "output_type": "execute_result"
    }
   ],
   "source": [
    "p_value"
   ]
  },
  {
   "cell_type": "code",
   "execution_count": 54,
   "id": "bd07ba58",
   "metadata": {},
   "outputs": [
    {
     "name": "stdout",
     "output_type": "stream",
     "text": [
      "Normal\n"
     ]
    }
   ],
   "source": [
    "if p_value >= p_value_threshold:\n",
    "    print (\"Normal\")\n",
    "else:\n",
    "    print (\"Abnormal\")"
   ]
  },
  {
   "cell_type": "code",
   "execution_count": 55,
   "id": "ed90d733",
   "metadata": {},
   "outputs": [],
   "source": [
    "distribution_list = (\"Normal\")"
   ]
  },
  {
   "cell_type": "code",
   "execution_count": 56,
   "id": "faeb4ada",
   "metadata": {},
   "outputs": [
    {
     "data": {
      "text/html": [
       "<div>\n",
       "<style scoped>\n",
       "    .dataframe tbody tr th:only-of-type {\n",
       "        vertical-align: middle;\n",
       "    }\n",
       "\n",
       "    .dataframe tbody tr th {\n",
       "        vertical-align: top;\n",
       "    }\n",
       "\n",
       "    .dataframe thead th {\n",
       "        text-align: right;\n",
       "    }\n",
       "</style>\n",
       "<table border=\"1\" class=\"dataframe\">\n",
       "  <thead>\n",
       "    <tr style=\"text-align: right;\">\n",
       "      <th></th>\n",
       "      <th>P_Value</th>\n",
       "      <th>Distribution</th>\n",
       "    </tr>\n",
       "  </thead>\n",
       "  <tbody>\n",
       "    <tr>\n",
       "      <th>Impression</th>\n",
       "      <td>0.351406</td>\n",
       "      <td>Normal</td>\n",
       "    </tr>\n",
       "  </tbody>\n",
       "</table>\n",
       "</div>"
      ],
      "text/plain": [
       "            P_Value Distribution\n",
       "Impression 0.351406       Normal"
      ]
     },
     "execution_count": 56,
     "metadata": {},
     "output_type": "execute_result"
    }
   ],
   "source": [
    "pd.DataFrame(index=['Impression'], data={\"P_Value\": p_value, \"Distribution\": distribution_list})"
   ]
  },
  {
   "cell_type": "code",
   "execution_count": 57,
   "id": "2c720f2d",
   "metadata": {},
   "outputs": [],
   "source": [
    "# Automation"
   ]
  },
  {
   "cell_type": "code",
   "execution_count": 58,
   "id": "446c9cca",
   "metadata": {},
   "outputs": [],
   "source": [
    "def normality_func(dataframe):\n",
    "    from scipy.stats import shapiro\n",
    "    p_value_threshold = 0.05\n",
    "    p_value_list = []\n",
    "    distribution_list = []\n",
    "    normal_list = []\n",
    "    abnormal_list = []\n",
    "    for col in dataframe.columns:\n",
    "        ttest, p_value = shapiro (dataframe[col])\n",
    "        p_value_list.append (p_value)\n",
    "        if p_value >= p_value_threshold:\n",
    "            distribution_list.append (\"Normal\")\n",
    "            normal_list.append (col)\n",
    "        else:\n",
    "            distribution_list.append (\"Abnormal\")\n",
    "            abnormal_list.append (col)\n",
    "\n",
    "    new_df = pd.DataFrame (index=dataframe.columns, data={\"P_Value\": p_value_list, \"Distribution\": distribution_list})\n",
    "    return new_df, normal_list, abnormal_list\n",
    "\n"
   ]
  },
  {
   "cell_type": "code",
   "execution_count": 60,
   "id": "ea0e79bf",
   "metadata": {},
   "outputs": [],
   "source": [
    "control_normality, control_normal_list, control_abnormal_list = normality_func (control_df)\n",
    "test_normality, test_normal_list, test_abnormal_list = normality_func (test_df)"
   ]
  },
  {
   "cell_type": "code",
   "execution_count": 61,
   "id": "b0e81fdb",
   "metadata": {},
   "outputs": [
    {
     "data": {
      "text/html": [
       "<div>\n",
       "<style scoped>\n",
       "    .dataframe tbody tr th:only-of-type {\n",
       "        vertical-align: middle;\n",
       "    }\n",
       "\n",
       "    .dataframe tbody tr th {\n",
       "        vertical-align: top;\n",
       "    }\n",
       "\n",
       "    .dataframe thead th {\n",
       "        text-align: right;\n",
       "    }\n",
       "</style>\n",
       "<table border=\"1\" class=\"dataframe\">\n",
       "  <thead>\n",
       "    <tr style=\"text-align: right;\">\n",
       "      <th></th>\n",
       "      <th>P_Value</th>\n",
       "      <th>Distribution</th>\n",
       "    </tr>\n",
       "  </thead>\n",
       "  <tbody>\n",
       "    <tr>\n",
       "      <th>Impression</th>\n",
       "      <td>0.351406</td>\n",
       "      <td>Normal</td>\n",
       "    </tr>\n",
       "    <tr>\n",
       "      <th>Click</th>\n",
       "      <td>0.845837</td>\n",
       "      <td>Normal</td>\n",
       "    </tr>\n",
       "    <tr>\n",
       "      <th>Purchase</th>\n",
       "      <td>0.592874</td>\n",
       "      <td>Normal</td>\n",
       "    </tr>\n",
       "    <tr>\n",
       "      <th>Earning</th>\n",
       "      <td>0.531293</td>\n",
       "      <td>Normal</td>\n",
       "    </tr>\n",
       "    <tr>\n",
       "      <th>Earning_Per_Click</th>\n",
       "      <td>0.012833</td>\n",
       "      <td>Abnormal</td>\n",
       "    </tr>\n",
       "  </tbody>\n",
       "</table>\n",
       "</div>"
      ],
      "text/plain": [
       "                   P_Value Distribution\n",
       "Impression        0.351406       Normal\n",
       "Click             0.845837       Normal\n",
       "Purchase          0.592874       Normal\n",
       "Earning           0.531293       Normal\n",
       "Earning_Per_Click 0.012833     Abnormal"
      ]
     },
     "execution_count": 61,
     "metadata": {},
     "output_type": "execute_result"
    }
   ],
   "source": [
    "control_normality"
   ]
  },
  {
   "cell_type": "code",
   "execution_count": 62,
   "id": "21117f6f",
   "metadata": {},
   "outputs": [
    {
     "data": {
      "text/plain": [
       "['Impression', 'Click', 'Purchase', 'Earning']"
      ]
     },
     "execution_count": 62,
     "metadata": {},
     "output_type": "execute_result"
    }
   ],
   "source": [
    "control_normal_list"
   ]
  },
  {
   "cell_type": "code",
   "execution_count": 63,
   "id": "34a15325",
   "metadata": {},
   "outputs": [
    {
     "data": {
      "text/plain": [
       "['Earning_Per_Click']"
      ]
     },
     "execution_count": 63,
     "metadata": {},
     "output_type": "execute_result"
    }
   ],
   "source": [
    "control_abnormal_list"
   ]
  },
  {
   "cell_type": "code",
   "execution_count": 65,
   "id": "621a48f3",
   "metadata": {},
   "outputs": [
    {
     "name": "stdout",
     "output_type": "stream",
     "text": [
      "ttest istatistiği: 2.640298470042385\n",
      "p_value: 0.10821824555495507\n"
     ]
    }
   ],
   "source": [
    "from scipy.stats import levene\n",
    "\n",
    "ttest_lev, p_value_lev = levene (control_df[\"Purchase\"], test_df[\"Purchase\"])\n",
    "print (\"ttest istatistiği: {}\\np_value: {}\".format (ttest_lev, p_value_lev))"
   ]
  },
  {
   "cell_type": "code",
   "execution_count": 66,
   "id": "0261e1fa",
   "metadata": {},
   "outputs": [],
   "source": [
    "def variance_homogeneity(dataframe_control, dataframe_test):\n",
    "    from scipy.stats import levene\n",
    "    p_value_threshold = 0.05\n",
    "    p_value_list = []\n",
    "    variance_list = []\n",
    "    column_list = list (zip (sorted (dataframe_control.columns), sorted (dataframe_test.columns)))\n",
    "    features = []\n",
    "    homogeneus_list = []\n",
    "    not_homogeneus_list = []\n",
    "    for col in column_list:\n",
    "        ttest_lev, p_value_lev = levene (dataframe_control[col[0]], dataframe_test[col[1]])\n",
    "        if (col[0] == col[1]) and (p_value_lev >= p_value_threshold):\n",
    "            p_value_list.append (p_value_lev)\n",
    "            variance_list.append (\"No Difference\")\n",
    "            homogeneus_list.append (col[0])\n",
    "            features.append (col[0])\n",
    "        elif (col[0] == col[1]) and (p_value_lev < p_value_threshold):\n",
    "            p_value_list.append (p_value_lev)\n",
    "            variance_list.append (\"Different\")\n",
    "            not_homogeneus_list.append (col[0])\n",
    "            features.append (col[0])\n",
    "\n",
    "    new_df = pd.DataFrame (index=features, data={\"P_Value\": p_value_list, \"Homogeneity_of_Variance\": variance_list})\n",
    "\n",
    "    return new_df, homogeneus_list, not_homogeneus_list\n",
    "\n",
    "\n",
    "variance_df, homogeneus, not_homogeneus = variance_homogeneity (control_df, test_df)"
   ]
  },
  {
   "cell_type": "code",
   "execution_count": 67,
   "id": "47b9f973",
   "metadata": {},
   "outputs": [
    {
     "data": {
      "text/html": [
       "<div>\n",
       "<style scoped>\n",
       "    .dataframe tbody tr th:only-of-type {\n",
       "        vertical-align: middle;\n",
       "    }\n",
       "\n",
       "    .dataframe tbody tr th {\n",
       "        vertical-align: top;\n",
       "    }\n",
       "\n",
       "    .dataframe thead th {\n",
       "        text-align: right;\n",
       "    }\n",
       "</style>\n",
       "<table border=\"1\" class=\"dataframe\">\n",
       "  <thead>\n",
       "    <tr style=\"text-align: right;\">\n",
       "      <th></th>\n",
       "      <th>P_Value</th>\n",
       "      <th>Homogeneity_of_Variance</th>\n",
       "    </tr>\n",
       "  </thead>\n",
       "  <tbody>\n",
       "    <tr>\n",
       "      <th>Click</th>\n",
       "      <td>0.014086</td>\n",
       "      <td>Different</td>\n",
       "    </tr>\n",
       "    <tr>\n",
       "      <th>Earning</th>\n",
       "      <td>0.554407</td>\n",
       "      <td>No Difference</td>\n",
       "    </tr>\n",
       "    <tr>\n",
       "      <th>Earning_Per_Click</th>\n",
       "      <td>0.502666</td>\n",
       "      <td>No Difference</td>\n",
       "    </tr>\n",
       "    <tr>\n",
       "      <th>Impression</th>\n",
       "      <td>0.446118</td>\n",
       "      <td>No Difference</td>\n",
       "    </tr>\n",
       "    <tr>\n",
       "      <th>Purchase</th>\n",
       "      <td>0.108218</td>\n",
       "      <td>No Difference</td>\n",
       "    </tr>\n",
       "  </tbody>\n",
       "</table>\n",
       "</div>"
      ],
      "text/plain": [
       "                   P_Value Homogeneity_of_Variance\n",
       "Click             0.014086               Different\n",
       "Earning           0.554407           No Difference\n",
       "Earning_Per_Click 0.502666           No Difference\n",
       "Impression        0.446118           No Difference\n",
       "Purchase          0.108218           No Difference"
      ]
     },
     "execution_count": 67,
     "metadata": {},
     "output_type": "execute_result"
    }
   ],
   "source": [
    "variance_df"
   ]
  },
  {
   "cell_type": "code",
   "execution_count": 68,
   "id": "4474985e",
   "metadata": {},
   "outputs": [
    {
     "data": {
      "text/plain": [
       "['Earning', 'Earning_Per_Click', 'Impression', 'Purchase']"
      ]
     },
     "execution_count": 68,
     "metadata": {},
     "output_type": "execute_result"
    }
   ],
   "source": [
    "homogeneus"
   ]
  },
  {
   "cell_type": "code",
   "execution_count": 69,
   "id": "c15c874a",
   "metadata": {},
   "outputs": [
    {
     "data": {
      "text/plain": [
       "['Click']"
      ]
     },
     "execution_count": 69,
     "metadata": {},
     "output_type": "execute_result"
    }
   ],
   "source": [
    "not_homogeneus"
   ]
  },
  {
   "cell_type": "code",
   "execution_count": 70,
   "id": "c67f0c8c",
   "metadata": {},
   "outputs": [],
   "source": [
    "\n",
    "from scipy.stats import ttest_ind, mannwhitneyu\n",
    "\n",
    "# Normal dağılan parametrik değişkenler için ttest, normal dağılmayan nonparametrik değişkenler için mannwhitneyu testini kullanıyoruz.\n",
    "feat_dict = {}\n",
    "for feat in control_normal_list:\n",
    "    if feat in homogeneus:\n",
    "        ttest_value, p_value = ttest_ind (control_df[feat], test_df[feat], equal_var=True)\n",
    "        feat_dict[feat] = p_value\n",
    "    elif feat not in homogeneus:\n",
    "        ttest_value, p_value = ttest_ind (control_df[feat], test_df[feat], equal_var=False)\n",
    "        feat_dict[feat] = p_value\n",
    "\n",
    "for feat in control_abnormal_list:\n",
    "    ttest_value, p_value = mannwhitneyu (control_df[feat], test_df[feat])\n",
    "    feat_dict[feat] = p_value\n",
    "\n",
    "ttest_df = pd.DataFrame (data=feat_dict.values (), index=feat_dict.keys (), columns=[\"Ttest_P_Value\"])"
   ]
  },
  {
   "cell_type": "code",
   "execution_count": 71,
   "id": "86f296aa",
   "metadata": {},
   "outputs": [
    {
     "data": {
      "text/plain": [
       "101711.45"
      ]
     },
     "execution_count": 71,
     "metadata": {},
     "output_type": "execute_result"
    }
   ],
   "source": [
    "control_df[\"Impression\"].mean()"
   ]
  },
  {
   "cell_type": "code",
   "execution_count": 72,
   "id": "4809eece",
   "metadata": {},
   "outputs": [
    {
     "data": {
      "text/plain": [
       "120512.425"
      ]
     },
     "execution_count": 72,
     "metadata": {},
     "output_type": "execute_result"
    }
   ],
   "source": [
    "test_df[\"Impression\"].mean()"
   ]
  },
  {
   "cell_type": "code",
   "execution_count": 73,
   "id": "b82ec0b0",
   "metadata": {},
   "outputs": [
    {
     "data": {
      "text/plain": [
       "5100.625"
      ]
     },
     "execution_count": 73,
     "metadata": {},
     "output_type": "execute_result"
    }
   ],
   "source": [
    "control_df[\"Click\"].mean()"
   ]
  },
  {
   "cell_type": "code",
   "execution_count": 74,
   "id": "0aeb8144",
   "metadata": {},
   "outputs": [
    {
     "data": {
      "text/plain": [
       "3967.55"
      ]
     },
     "execution_count": 74,
     "metadata": {},
     "output_type": "execute_result"
    }
   ],
   "source": [
    "test_df[\"Click\"].mean()"
   ]
  },
  {
   "cell_type": "code",
   "execution_count": 75,
   "id": "64cef6c5",
   "metadata": {},
   "outputs": [
    {
     "data": {
      "text/plain": [
       "0.22214434505575292"
      ]
     },
     "execution_count": 75,
     "metadata": {},
     "output_type": "execute_result"
    }
   ],
   "source": [
    "(5100.625 - 3967.55) / 5100.625"
   ]
  },
  {
   "cell_type": "code",
   "execution_count": 76,
   "id": "fbc29521",
   "metadata": {},
   "outputs": [
    {
     "data": {
      "text/plain": [
       "550.9"
      ]
     },
     "execution_count": 76,
     "metadata": {},
     "output_type": "execute_result"
    }
   ],
   "source": [
    "control_df[\"Purchase\"].mean()"
   ]
  },
  {
   "cell_type": "code",
   "execution_count": 77,
   "id": "f991282b",
   "metadata": {},
   "outputs": [
    {
     "data": {
      "text/plain": [
       "582.05"
      ]
     },
     "execution_count": 77,
     "metadata": {},
     "output_type": "execute_result"
    }
   ],
   "source": [
    "test_df[\"Purchase\"].mean()"
   ]
  },
  {
   "cell_type": "code",
   "execution_count": 78,
   "id": "43500930",
   "metadata": {},
   "outputs": [
    {
     "data": {
      "text/plain": [
       "1908.575"
      ]
     },
     "execution_count": 78,
     "metadata": {},
     "output_type": "execute_result"
    }
   ],
   "source": [
    "control_df[\"Earning\"].mean()"
   ]
  },
  {
   "cell_type": "code",
   "execution_count": 79,
   "id": "52fb694e",
   "metadata": {},
   "outputs": [
    {
     "data": {
      "text/plain": [
       "2514.925"
      ]
     },
     "execution_count": 79,
     "metadata": {},
     "output_type": "execute_result"
    }
   ],
   "source": [
    "test_df[\"Earning\"].mean()"
   ]
  },
  {
   "cell_type": "code",
   "execution_count": 80,
   "id": "6f0b445a",
   "metadata": {},
   "outputs": [
    {
     "data": {
      "text/html": [
       "<div>\n",
       "<style scoped>\n",
       "    .dataframe tbody tr th:only-of-type {\n",
       "        vertical-align: middle;\n",
       "    }\n",
       "\n",
       "    .dataframe tbody tr th {\n",
       "        vertical-align: top;\n",
       "    }\n",
       "\n",
       "    .dataframe thead th {\n",
       "        text-align: right;\n",
       "    }\n",
       "</style>\n",
       "<table border=\"1\" class=\"dataframe\">\n",
       "  <thead>\n",
       "    <tr style=\"text-align: right;\">\n",
       "      <th></th>\n",
       "      <th>Ttest_P_Value</th>\n",
       "    </tr>\n",
       "  </thead>\n",
       "  <tbody>\n",
       "    <tr>\n",
       "      <th>Impression</th>\n",
       "      <td>0.000050</td>\n",
       "    </tr>\n",
       "    <tr>\n",
       "      <th>Click</th>\n",
       "      <td>0.000035</td>\n",
       "    </tr>\n",
       "    <tr>\n",
       "      <th>Purchase</th>\n",
       "      <td>0.350322</td>\n",
       "    </tr>\n",
       "    <tr>\n",
       "      <th>Earning</th>\n",
       "      <td>0.000000</td>\n",
       "    </tr>\n",
       "    <tr>\n",
       "      <th>Earning_Per_Click</th>\n",
       "      <td>0.000000</td>\n",
       "    </tr>\n",
       "  </tbody>\n",
       "</table>\n",
       "</div>"
      ],
      "text/plain": [
       "                   Ttest_P_Value\n",
       "Impression              0.000050\n",
       "Click                   0.000035\n",
       "Purchase                0.350322\n",
       "Earning                 0.000000\n",
       "Earning_Per_Click       0.000000"
      ]
     },
     "execution_count": 80,
     "metadata": {},
     "output_type": "execute_result"
    }
   ],
   "source": [
    "ttest_df"
   ]
  },
  {
   "cell_type": "code",
   "execution_count": 81,
   "id": "41641ab1",
   "metadata": {},
   "outputs": [],
   "source": [
    "for col in control_df.columns:\n",
    "    ttest_df.loc[ttest_df.index == col, \"Maximum Bidding Mean\"] = control_df[col].mean ()"
   ]
  },
  {
   "cell_type": "code",
   "execution_count": 82,
   "id": "2ee0458a",
   "metadata": {},
   "outputs": [
    {
     "data": {
      "text/html": [
       "<div>\n",
       "<style scoped>\n",
       "    .dataframe tbody tr th:only-of-type {\n",
       "        vertical-align: middle;\n",
       "    }\n",
       "\n",
       "    .dataframe tbody tr th {\n",
       "        vertical-align: top;\n",
       "    }\n",
       "\n",
       "    .dataframe thead th {\n",
       "        text-align: right;\n",
       "    }\n",
       "</style>\n",
       "<table border=\"1\" class=\"dataframe\">\n",
       "  <thead>\n",
       "    <tr style=\"text-align: right;\">\n",
       "      <th></th>\n",
       "      <th>Ttest_P_Value</th>\n",
       "      <th>Maximum Bidding Mean</th>\n",
       "    </tr>\n",
       "  </thead>\n",
       "  <tbody>\n",
       "    <tr>\n",
       "      <th>Impression</th>\n",
       "      <td>0.000050</td>\n",
       "      <td>101711.450000</td>\n",
       "    </tr>\n",
       "    <tr>\n",
       "      <th>Click</th>\n",
       "      <td>0.000035</td>\n",
       "      <td>5100.625000</td>\n",
       "    </tr>\n",
       "    <tr>\n",
       "      <th>Purchase</th>\n",
       "      <td>0.350322</td>\n",
       "      <td>550.900000</td>\n",
       "    </tr>\n",
       "    <tr>\n",
       "      <th>Earning</th>\n",
       "      <td>0.000000</td>\n",
       "      <td>1908.575000</td>\n",
       "    </tr>\n",
       "    <tr>\n",
       "      <th>Earning_Per_Click</th>\n",
       "      <td>0.000000</td>\n",
       "      <td>0.408358</td>\n",
       "    </tr>\n",
       "  </tbody>\n",
       "</table>\n",
       "</div>"
      ],
      "text/plain": [
       "                   Ttest_P_Value  Maximum Bidding Mean\n",
       "Impression              0.000050         101711.450000\n",
       "Click                   0.000035           5100.625000\n",
       "Purchase                0.350322            550.900000\n",
       "Earning                 0.000000           1908.575000\n",
       "Earning_Per_Click       0.000000              0.408358"
      ]
     },
     "execution_count": 82,
     "metadata": {},
     "output_type": "execute_result"
    }
   ],
   "source": [
    "ttest_df"
   ]
  },
  {
   "cell_type": "code",
   "execution_count": 83,
   "id": "f70fee5d",
   "metadata": {},
   "outputs": [],
   "source": [
    "for col in test_df.columns:\n",
    "    ttest_df.loc[ttest_df.index == col, \"Average Bidding Mean\"] = test_df[col].mean ()"
   ]
  },
  {
   "cell_type": "code",
   "execution_count": 84,
   "id": "a653472d",
   "metadata": {},
   "outputs": [
    {
     "data": {
      "text/html": [
       "<div>\n",
       "<style scoped>\n",
       "    .dataframe tbody tr th:only-of-type {\n",
       "        vertical-align: middle;\n",
       "    }\n",
       "\n",
       "    .dataframe tbody tr th {\n",
       "        vertical-align: top;\n",
       "    }\n",
       "\n",
       "    .dataframe thead th {\n",
       "        text-align: right;\n",
       "    }\n",
       "</style>\n",
       "<table border=\"1\" class=\"dataframe\">\n",
       "  <thead>\n",
       "    <tr style=\"text-align: right;\">\n",
       "      <th></th>\n",
       "      <th>Ttest_P_Value</th>\n",
       "      <th>Maximum Bidding Mean</th>\n",
       "      <th>Average Bidding Mean</th>\n",
       "    </tr>\n",
       "  </thead>\n",
       "  <tbody>\n",
       "    <tr>\n",
       "      <th>Impression</th>\n",
       "      <td>0.000050</td>\n",
       "      <td>101711.450000</td>\n",
       "      <td>120512.425000</td>\n",
       "    </tr>\n",
       "    <tr>\n",
       "      <th>Click</th>\n",
       "      <td>0.000035</td>\n",
       "      <td>5100.625000</td>\n",
       "      <td>3967.550000</td>\n",
       "    </tr>\n",
       "    <tr>\n",
       "      <th>Purchase</th>\n",
       "      <td>0.350322</td>\n",
       "      <td>550.900000</td>\n",
       "      <td>582.050000</td>\n",
       "    </tr>\n",
       "    <tr>\n",
       "      <th>Earning</th>\n",
       "      <td>0.000000</td>\n",
       "      <td>1908.575000</td>\n",
       "      <td>2514.925000</td>\n",
       "    </tr>\n",
       "    <tr>\n",
       "      <th>Earning_Per_Click</th>\n",
       "      <td>0.000000</td>\n",
       "      <td>0.408358</td>\n",
       "      <td>0.668312</td>\n",
       "    </tr>\n",
       "  </tbody>\n",
       "</table>\n",
       "</div>"
      ],
      "text/plain": [
       "                   Ttest_P_Value  Maximum Bidding Mean  Average Bidding Mean\n",
       "Impression              0.000050         101711.450000         120512.425000\n",
       "Click                   0.000035           5100.625000           3967.550000\n",
       "Purchase                0.350322            550.900000            582.050000\n",
       "Earning                 0.000000           1908.575000           2514.925000\n",
       "Earning_Per_Click       0.000000              0.408358              0.668312"
      ]
     },
     "execution_count": 84,
     "metadata": {},
     "output_type": "execute_result"
    }
   ],
   "source": [
    "ttest_df"
   ]
  },
  {
   "cell_type": "code",
   "execution_count": 85,
   "id": "b767ff53",
   "metadata": {},
   "outputs": [
    {
     "data": {
      "text/html": [
       "<div>\n",
       "<style scoped>\n",
       "    .dataframe tbody tr th:only-of-type {\n",
       "        vertical-align: middle;\n",
       "    }\n",
       "\n",
       "    .dataframe tbody tr th {\n",
       "        vertical-align: top;\n",
       "    }\n",
       "\n",
       "    .dataframe thead th {\n",
       "        text-align: right;\n",
       "    }\n",
       "</style>\n",
       "<table border=\"1\" class=\"dataframe\">\n",
       "  <thead>\n",
       "    <tr style=\"text-align: right;\">\n",
       "      <th></th>\n",
       "      <th>Ttest_P_Value</th>\n",
       "      <th>Maximum Bidding Mean</th>\n",
       "      <th>Average Bidding Mean</th>\n",
       "      <th>H0_Hypothesis</th>\n",
       "      <th>Winner</th>\n",
       "    </tr>\n",
       "  </thead>\n",
       "  <tbody>\n",
       "    <tr>\n",
       "      <th>Impression</th>\n",
       "      <td>0.000050</td>\n",
       "      <td>101711.450000</td>\n",
       "      <td>120512.425000</td>\n",
       "      <td>Rejected</td>\n",
       "      <td>Average Bidding</td>\n",
       "    </tr>\n",
       "    <tr>\n",
       "      <th>Click</th>\n",
       "      <td>0.000035</td>\n",
       "      <td>5100.625000</td>\n",
       "      <td>3967.550000</td>\n",
       "      <td>Rejected</td>\n",
       "      <td>Maximum Bidding</td>\n",
       "    </tr>\n",
       "    <tr>\n",
       "      <th>Purchase</th>\n",
       "      <td>0.350322</td>\n",
       "      <td>550.900000</td>\n",
       "      <td>582.050000</td>\n",
       "      <td>Not Rejected</td>\n",
       "      <td>No Difference</td>\n",
       "    </tr>\n",
       "    <tr>\n",
       "      <th>Earning</th>\n",
       "      <td>0.000000</td>\n",
       "      <td>1908.575000</td>\n",
       "      <td>2514.925000</td>\n",
       "      <td>Rejected</td>\n",
       "      <td>Average Bidding</td>\n",
       "    </tr>\n",
       "    <tr>\n",
       "      <th>Earning_Per_Click</th>\n",
       "      <td>0.000000</td>\n",
       "      <td>0.408358</td>\n",
       "      <td>0.668312</td>\n",
       "      <td>Rejected</td>\n",
       "      <td>Average Bidding</td>\n",
       "    </tr>\n",
       "  </tbody>\n",
       "</table>\n",
       "</div>"
      ],
      "text/plain": [
       "                   Ttest_P_Value  Maximum Bidding Mean  Average Bidding Mean  \\\n",
       "Impression              0.000050         101711.450000         120512.425000   \n",
       "Click                   0.000035           5100.625000           3967.550000   \n",
       "Purchase                0.350322            550.900000            582.050000   \n",
       "Earning                 0.000000           1908.575000           2514.925000   \n",
       "Earning_Per_Click       0.000000              0.408358              0.668312   \n",
       "\n",
       "                  H0_Hypothesis           Winner  \n",
       "Impression             Rejected  Average Bidding  \n",
       "Click                  Rejected  Maximum Bidding  \n",
       "Purchase           Not Rejected    No Difference  \n",
       "Earning                Rejected  Average Bidding  \n",
       "Earning_Per_Click      Rejected  Average Bidding  "
      ]
     },
     "execution_count": 85,
     "metadata": {},
     "output_type": "execute_result"
    }
   ],
   "source": [
    "threshold = 0.05           # p_value değeri\n",
    "ttest_df.loc[ttest_df[\"Ttest_P_Value\"] < threshold, \"H0_Hypothesis\"] = \"Rejected\"\n",
    "ttest_df.loc[ttest_df[\"Ttest_P_Value\"] >= threshold, \"H0_Hypothesis\"] = \"Not Rejected\"\n",
    "\n",
    "# Her bir değişken için iki bidding tipinin ortalamalarını karşılaştırıyoruz.\n",
    "ttest_df[\"Winner\"] = ttest_df.apply (\n",
    "    lambda x: \"Maximum Bidding\" if (x[\"Maximum Bidding Mean\"] >= x[\"Average Bidding Mean\"]) & (\n",
    "                x[\"H0_Hypothesis\"] == \"Rejected\") else\n",
    "    \"Average Bidding\" if (x[\"Maximum Bidding Mean\"] < x[\"Average Bidding Mean\"]) & (\n",
    "                x[\"H0_Hypothesis\"] == \"Rejected\") else\n",
    "    \"No Difference\", axis=1)\n",
    "\n",
    "ttest_df"
   ]
  },
  {
   "cell_type": "code",
   "execution_count": 86,
   "id": "7e51324c",
   "metadata": {},
   "outputs": [
    {
     "data": {
      "text/plain": [
       "40"
      ]
     },
     "execution_count": 86,
     "metadata": {},
     "output_type": "execute_result"
    }
   ],
   "source": [
    "control_df[\"Purchase\"].shape[0]  # Gözlem sayısı 40, n1>30 varsayımı sağlanıyor.\n",
    "test_df[\"Purchase\"].shape[0]  # Gözlem sayısı 40, n2>30 varsayımı sağlanıyor."
   ]
  },
  {
   "cell_type": "code",
   "execution_count": 89,
   "id": "b336e412",
   "metadata": {},
   "outputs": [],
   "source": [
    "from statsmodels.stats.proportion import proportions_ztest\n",
    "\n",
    "purchase_sum = np.array ([control_df[\"Purchase\"].sum (), test_df[\"Purchase\"].sum ()])\n",
    "click_sum = np.array ([control_df[\"Click\"].sum (), test_df[\"Click\"].sum ()])\n",
    "impression_sum = np.array ([control_df[\"Impression\"].sum (), test_df[\"Impression\"].sum ()])"
   ]
  },
  {
   "cell_type": "code",
   "execution_count": 90,
   "id": "2a5d7f11",
   "metadata": {},
   "outputs": [],
   "source": [
    "# purchase / impression\n",
    "ttest_z_purc_imp, p_purc_imp = proportions_ztest (purchase_sum, impression_sum)\n",
    "\n",
    "# purchase / click\n",
    "ttest_z_purc_click, p_purc_click = proportions_ztest (purchase_sum, click_sum)\n",
    "\n",
    "# click / impression\n",
    "ttest_z_click_imp, p_click_imp = proportions_ztest (click_sum, impression_sum)\n",
    "\n",
    "prop_df = pd.DataFrame(index=[\"Purchase/Impression\", \"Purchase/Click\", \"Click/Impression\"], columns=[\"Proportions_P_Value\"], data=[p_purc_imp, p_purc_click, p_click_imp])\n",
    "\n",
    "prop_df.loc[prop_df.index == \"Purchase/Impression\", \"Maximum Bidding\"] = control_df[\"Purchase\"].sum() / control_df[\"Impression\"] .sum()\n",
    "prop_df.loc[prop_df.index == \"Purchase/Impression\", \"Average Bidding\"] = test_df[\"Purchase\"].sum() / test_df[\"Impression\"] .sum()\n",
    "\n",
    "prop_df.loc[prop_df.index == \"Purchase/Click\", \"Maximum Bidding\"] = control_df[\"Purchase\"].sum() / control_df[\"Click\"] .sum()\n",
    "prop_df.loc[prop_df.index == \"Purchase/Click\", \"Average Bidding\"] = test_df[\"Purchase\"].sum() / test_df[\"Click\"] .sum()\n",
    "\n",
    "prop_df.loc[prop_df.index == \"Click/Impression\", \"Maximum Bidding\"] = control_df[\"Click\"].sum() / control_df[\"Impression\"] .sum()\n",
    "prop_df.loc[prop_df.index == \"Click/Impression\", \"Average Bidding\"] = test_df[\"Click\"].sum() / test_df[\"Impression\"] .sum()\n",
    "\n",
    "prop_df[\"H0_Hypothesis\"] = prop_df.apply(lambda x: \"Rejected\" if x[\"Proportions_P_Value\"]<threshold else \"Not Rejected\", axis=1)\n",
    "\n",
    "prop_df[\"Winner\"] = prop_df.apply(lambda x: \"Maximum Bidding\" if x[\"Maximum Bidding\"] >= x[\"Average Bidding\"] else \"Average Bidding\", axis=1)"
   ]
  },
  {
   "cell_type": "code",
   "execution_count": 91,
   "id": "7733d12e",
   "metadata": {},
   "outputs": [
    {
     "data": {
      "text/html": [
       "<div>\n",
       "<style scoped>\n",
       "    .dataframe tbody tr th:only-of-type {\n",
       "        vertical-align: middle;\n",
       "    }\n",
       "\n",
       "    .dataframe tbody tr th {\n",
       "        vertical-align: top;\n",
       "    }\n",
       "\n",
       "    .dataframe thead th {\n",
       "        text-align: right;\n",
       "    }\n",
       "</style>\n",
       "<table border=\"1\" class=\"dataframe\">\n",
       "  <thead>\n",
       "    <tr style=\"text-align: right;\">\n",
       "      <th></th>\n",
       "      <th>Proportions_P_Value</th>\n",
       "      <th>Maximum Bidding</th>\n",
       "      <th>Average Bidding</th>\n",
       "      <th>H0_Hypothesis</th>\n",
       "      <th>Winner</th>\n",
       "    </tr>\n",
       "  </thead>\n",
       "  <tbody>\n",
       "    <tr>\n",
       "      <th>Purchase/Impression</th>\n",
       "      <td>0.000000</td>\n",
       "      <td>0.005416</td>\n",
       "      <td>0.004830</td>\n",
       "      <td>Rejected</td>\n",
       "      <td>Maximum Bidding</td>\n",
       "    </tr>\n",
       "    <tr>\n",
       "      <th>Purchase/Click</th>\n",
       "      <td>0.000000</td>\n",
       "      <td>0.108006</td>\n",
       "      <td>0.146703</td>\n",
       "      <td>Rejected</td>\n",
       "      <td>Average Bidding</td>\n",
       "    </tr>\n",
       "    <tr>\n",
       "      <th>Click/Impression</th>\n",
       "      <td>0.000000</td>\n",
       "      <td>0.050148</td>\n",
       "      <td>0.032922</td>\n",
       "      <td>Rejected</td>\n",
       "      <td>Maximum Bidding</td>\n",
       "    </tr>\n",
       "  </tbody>\n",
       "</table>\n",
       "</div>"
      ],
      "text/plain": [
       "                     Proportions_P_Value  Maximum Bidding  Average Bidding  \\\n",
       "Purchase/Impression             0.000000         0.005416         0.004830   \n",
       "Purchase/Click                  0.000000         0.108006         0.146703   \n",
       "Click/Impression                0.000000         0.050148         0.032922   \n",
       "\n",
       "                    H0_Hypothesis           Winner  \n",
       "Purchase/Impression      Rejected  Maximum Bidding  \n",
       "Purchase/Click           Rejected  Average Bidding  \n",
       "Click/Impression         Rejected  Maximum Bidding  "
      ]
     },
     "execution_count": 91,
     "metadata": {},
     "output_type": "execute_result"
    }
   ],
   "source": [
    "prop_df"
   ]
  },
  {
   "cell_type": "code",
   "execution_count": null,
   "id": "0a55cf4a",
   "metadata": {},
   "outputs": [],
   "source": []
  }
 ],
 "metadata": {
  "kernelspec": {
   "display_name": "Python 3 (ipykernel)",
   "language": "python",
   "name": "python3"
  },
  "language_info": {
   "codemirror_mode": {
    "name": "ipython",
    "version": 3
   },
   "file_extension": ".py",
   "mimetype": "text/x-python",
   "name": "python",
   "nbconvert_exporter": "python",
   "pygments_lexer": "ipython3",
   "version": "3.9.12"
  }
 },
 "nbformat": 4,
 "nbformat_minor": 5
}
